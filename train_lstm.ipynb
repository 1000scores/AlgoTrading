{
 "cells": [
  {
   "cell_type": "code",
   "execution_count": 1,
   "metadata": {},
   "outputs": [],
   "source": [
    "%load_ext autoreload\n",
    "%autoreload 2\n",
    "from get_data import *\n",
    "import pandas as pd\n",
    "from torch.utils.data import Dataset, DataLoader\n",
    "import torch\n",
    "from sklearn.preprocessing import StandardScaler\n",
    "from pickle import load, dump\n",
    "import math\n",
    "from sklearn.metrics import mean_squared_error\n",
    "'''\n",
    "from keras.models import Sequential\n",
    "from keras.layers import Dense, LSTM, Dropout, GRU, Bidirectional\n",
    "import tensorflow as tf\n",
    "gpus = tf.config.experimental.list_physical_devices(device_type='GPU')\n",
    "tf.config.experimental.set_visible_devices(devices=gpus[0], device_type='GPU')\n",
    "tf.config.experimental.set_memory_growth(device=gpus[0], enable=True)\n",
    "import os\n",
    "os.environ['TF_FORCE_GPU_ALLOW_GROWTH'] = 'true'\n",
    "'''\n",
    "\n",
    "import torch\n",
    "import torch.nn as nn\n"
   ]
  },
  {
   "cell_type": "code",
   "execution_count": 2,
   "metadata": {},
   "outputs": [
    {
     "data": {
      "text/plain": [
       "'\\ndownload_data(\\n    start_date=\"2021-01-01\",\\n    end_date=\"2022-02-28\",\\n    currency_symbol=\"BTCUSDT\",\\n    path=\"data/train_15_2021-01-01_2022-02-28\",\\n    ohlcv_size=\\'15m\\'\\n)\\n\\ndownload_data(\\n    start_date=\"2021-01-01\",\\n    end_date=\"2022-02-28\",\\n    currency_symbol=\"BTCUSDT\",\\n    path=\"data/train_15_2021-01-01_2022-02-28\",\\n    ohlcv_size=\\'15m\\'\\n)\\n\\ndownload_data(\\n    start_date=\"2022-03-01\",\\n    end_date=\"2022-03-30\",\\n    currency_symbol=\"BTCUSDT\",\\n    path=\"data/test_15_2022-03-01_2022-03-30\",\\n    ohlcv_size=\\'15m\\'\\n)\\n\\n\\n'"
      ]
     },
     "execution_count": 2,
     "metadata": {},
     "output_type": "execute_result"
    }
   ],
   "source": [
    "'''\n",
    "download_data(\n",
    "    start_date=\"2021-01-01\",\n",
    "    end_date=\"2022-02-28\",\n",
    "    currency_symbol=\"BTCUSDT\",\n",
    "    path=\"data/train_15_2021-01-01_2022-02-28\",\n",
    "    ohlcv_size='15m'\n",
    ")\n",
    "\n",
    "download_data(\n",
    "    start_date=\"2021-01-01\",\n",
    "    end_date=\"2022-02-28\",\n",
    "    currency_symbol=\"BTCUSDT\",\n",
    "    path=\"data/train_15_2021-01-01_2022-02-28\",\n",
    "    ohlcv_size='15m'\n",
    ")\n",
    "\n",
    "download_data(\n",
    "    start_date=\"2022-03-01\",\n",
    "    end_date=\"2022-03-30\",\n",
    "    currency_symbol=\"BTCUSDT\",\n",
    "    path=\"data/test_15_2022-03-01_2022-03-30\",\n",
    "    ohlcv_size='15m'\n",
    ")\n",
    "\n",
    "\n",
    "'''\n",
    "\n"
   ]
  },
  {
   "cell_type": "code",
   "execution_count": 3,
   "metadata": {},
   "outputs": [],
   "source": [
    "PATH_TRAIN = \"data/train_15_2021-01-01_2022-02-28\"\n",
    "PATH_TEST = \"data/test_15_2022-03-01_2022-03-30\"\n",
    "SCALER_PATH = \"scalers/scaler_15m.pkl\"\n",
    "\n",
    "SEQ_LEN = 40\n",
    "BATCH_SIZE = 8"
   ]
  },
  {
   "cell_type": "code",
   "execution_count": 4,
   "metadata": {},
   "outputs": [],
   "source": [
    "class AlgoTradingDataset(Dataset):\n",
    "    def __init__(self, seq_len, path, scaler_path):\n",
    "        self.scaler = load(open(scaler_path, 'rb'))\n",
    "        tmp_X = get_high_from_data(path).reshape(-1, 1)\n",
    "        tmp_X = self.scaler.transform(tmp_X).reshape(-1)\n",
    "        self.X = []\n",
    "        self.y = []\n",
    "\n",
    "        for i in range(SEQ_LEN, len(tmp_X)):\n",
    "            self.X.append(tmp_X[i - SEQ_LEN : i])\n",
    "            self.y.append(tmp_X[i])\n",
    "        self.X = torch.Tensor(self.X).unsqueeze(dim=-1)\n",
    "        self.y = torch.Tensor(self.y)\n",
    "\n",
    "\n",
    "    def __len__(self):\n",
    "        return self.X.shape[0]\n",
    "\n",
    "    \n",
    "    def __getitem__(self, idx):\n",
    "        return self.X[idx], self.y[idx]\n",
    "    "
   ]
  },
  {
   "cell_type": "code",
   "execution_count": 5,
   "metadata": {},
   "outputs": [
    {
     "name": "stdout",
     "output_type": "stream",
     "text": [
      "5063\n",
      "torch.Size([8, 40, 1])\n",
      "torch.Size([8])\n",
      "torch.Size([8, 40, 1])\n",
      "torch.Size([8])\n"
     ]
    },
    {
     "name": "stderr",
     "output_type": "stream",
     "text": [
      "<ipython-input-4-40b483053662>:12: UserWarning: Creating a tensor from a list of numpy.ndarrays is extremely slow. Please consider converting the list to a single numpy.ndarray with numpy.array() before converting to a tensor. (Triggered internally at  C:\\actions-runner\\_work\\pytorch\\pytorch\\builder\\windows\\pytorch\\torch\\csrc\\utils\\tensor_new.cpp:210.)\n",
      "  self.X = torch.Tensor(self.X).unsqueeze(dim=-1)\n"
     ]
    }
   ],
   "source": [
    "training_data = AlgoTradingDataset(SEQ_LEN, PATH_TRAIN, SCALER_PATH)\n",
    "test_data = AlgoTradingDataset(SEQ_LEN, PATH_TEST, SCALER_PATH)\n",
    "train_dataloader = DataLoader(training_data, batch_size=BATCH_SIZE, shuffle=False)\n",
    "test_dataloader = DataLoader(test_data, batch_size=BATCH_SIZE, shuffle=False)\n",
    "print(len(train_dataloader))\n",
    "print(next(iter(train_dataloader))[0].shape)\n",
    "print(next(iter(train_dataloader))[1].shape)\n",
    "print(next(iter(test_dataloader))[0].shape)\n",
    "print(next(iter(test_dataloader))[1].shape)"
   ]
  },
  {
   "cell_type": "code",
   "execution_count": 6,
   "metadata": {},
   "outputs": [],
   "source": [
    "class SuperBot(torch.nn.Module):\n",
    "    def __init__(self, input_size, hidden_size, bidirectional=True, dropout_rate=0.1):\n",
    "        super(SuperBot, self).__init__()\n",
    "        self.lstm1 = nn.LSTM(input_size=input_size, hidden_size=hidden_size, dropout=dropout_rate, batch_first=True, bidirectional=True)\n",
    "        if bidirectional:\n",
    "            self.l1 = nn.Linear(hidden_size * 2, 1)\n",
    "        else:\n",
    "            self.l1 = nn.Linear(hidden_size, 1)\n",
    "\n",
    "    def forward(self, inputs):\n",
    "        output = self.lstm1(inputs)[0]\n",
    "\n",
    "        output = self.l1(output)\n",
    "\n",
    "        return output"
   ]
  },
  {
   "cell_type": "code",
   "execution_count": 7,
   "metadata": {},
   "outputs": [],
   "source": [
    "def train(\n",
    "    model,\n",
    "    optimizer,\n",
    "    criterion,\n",
    "    epochs,\n",
    "    train_data,\n",
    "    log_loss_every=150\n",
    "):\n",
    "    running_loss = 0.0\n",
    "    for epoch in tqdm(range(epochs)):\n",
    "        for i, data in enumerate(train_data):\n",
    "            # get the inputs; data is a list of [inputs, labels]\n",
    "            inputs, labels = data\n",
    "\n",
    "            # zero the parameter gradients\n",
    "            optimizer.zero_grad()\n",
    "\n",
    "            # forward + backward + optimize\n",
    "            outputs = model(inputs)\n",
    "\n",
    "            loss = criterion(outputs, labels)\n",
    "            loss.backward()\n",
    "            optimizer.step()\n",
    "            running_loss += loss.item()\n",
    "            if i % log_loss_every == log_loss_every - 1:    # print every 2000 mini-batches\n",
    "                print(f'[{epoch + 1}, {i + 1:5d}] loss: {running_loss / float(log_loss_every):.6f}')\n",
    "                running_loss = 0.0\n",
    "\n",
    "    print('Finished Training')\n"
   ]
  },
  {
   "cell_type": "code",
   "execution_count": 8,
   "metadata": {},
   "outputs": [
    {
     "name": "stderr",
     "output_type": "stream",
     "text": [
      "  0%|          | 0/10 [00:00<?, ?it/s]C:\\Users\\dmele\\AppData\\Local\\Programs\\Python\\Python39\\lib\\site-packages\\torch\\nn\\modules\\loss.py:529: UserWarning: Using a target size (torch.Size([8])) that is different to the input size (torch.Size([8, 40, 1])). This will likely lead to incorrect results due to broadcasting. Please ensure they have the same size.\n",
      "  return F.mse_loss(input, target, reduction=self.reduction)\n"
     ]
    },
    {
     "name": "stdout",
     "output_type": "stream",
     "text": [
      "[1,   150] loss: 0.012114\n",
      "[1,   300] loss: 0.001012\n",
      "[1,   450] loss: 0.000840\n",
      "[1,   600] loss: 0.001485\n",
      "[1,   750] loss: 0.001617\n",
      "[1,   900] loss: 0.001237\n",
      "[1,  1050] loss: 0.000953\n",
      "[1,  1200] loss: 0.000561\n",
      "[1,  1350] loss: 0.001129\n",
      "[1,  1500] loss: 0.000965\n",
      "[1,  1650] loss: 0.001029\n",
      "[1,  1800] loss: 0.001129\n",
      "[1,  1950] loss: 0.000678\n",
      "[1,  2100] loss: 0.000684\n",
      "[1,  2250] loss: 0.000505\n",
      "[1,  2400] loss: 0.000166\n",
      "[1,  2550] loss: 0.000506\n",
      "[1,  2700] loss: 0.000486\n",
      "[1,  2850] loss: 0.000369\n",
      "[1,  3000] loss: 0.000762\n",
      "[1,  3150] loss: 0.000467\n",
      "[1,  3300] loss: 0.000684\n",
      "[1,  3450] loss: 0.000711\n",
      "[1,  3600] loss: 0.000865\n",
      "[1,  3750] loss: 0.000677\n",
      "[1,  3900] loss: 0.000743\n",
      "[1,  4050] loss: 0.001332\n",
      "[1,  4200] loss: 0.000581\n",
      "[1,  4350] loss: 0.000364\n",
      "[1,  4500] loss: 0.000238\n",
      "[1,  4650] loss: 0.000500\n",
      "[1,  4800] loss: 0.000512\n",
      "[1,  4950] loss: 0.000308\n"
     ]
    },
    {
     "name": "stderr",
     "output_type": "stream",
     "text": [
      " 10%|█         | 1/10 [00:59<08:54, 59.35s/it]"
     ]
    },
    {
     "name": "stdout",
     "output_type": "stream",
     "text": [
      "[2,   150] loss: 0.003190\n",
      "[2,   300] loss: 0.000876\n",
      "[2,   450] loss: 0.000675\n",
      "[2,   600] loss: 0.001193\n",
      "[2,   750] loss: 0.001414\n",
      "[2,   900] loss: 0.000997\n",
      "[2,  1050] loss: 0.000713\n",
      "[2,  1200] loss: 0.000317\n",
      "[2,  1350] loss: 0.000936\n",
      "[2,  1500] loss: 0.000826\n",
      "[2,  1650] loss: 0.000888\n",
      "[2,  1800] loss: 0.001073\n",
      "[2,  1950] loss: 0.000617\n",
      "[2,  2100] loss: 0.000638\n",
      "[2,  2250] loss: 0.000467\n",
      "[2,  2400] loss: 0.000128\n",
      "[2,  2550] loss: 0.000460\n",
      "[2,  2700] loss: 0.000440\n",
      "[2,  2850] loss: 0.000308\n",
      "[2,  3000] loss: 0.000695\n",
      "[2,  3150] loss: 0.000406\n",
      "[2,  3300] loss: 0.000639\n",
      "[2,  3450] loss: 0.000656\n",
      "[2,  3600] loss: 0.000781\n",
      "[2,  3750] loss: 0.000604\n",
      "[2,  3900] loss: 0.000681\n",
      "[2,  4050] loss: 0.001281\n",
      "[2,  4200] loss: 0.000537\n",
      "[2,  4350] loss: 0.000324\n",
      "[2,  4500] loss: 0.000213\n",
      "[2,  4650] loss: 0.000480\n",
      "[2,  4800] loss: 0.000495\n",
      "[2,  4950] loss: 0.000287\n"
     ]
    },
    {
     "name": "stderr",
     "output_type": "stream",
     "text": [
      " 20%|██        | 2/10 [01:58<07:55, 59.42s/it]"
     ]
    },
    {
     "name": "stdout",
     "output_type": "stream",
     "text": [
      "[3,   150] loss: 0.003106\n",
      "[3,   300] loss: 0.000872\n",
      "[3,   450] loss: 0.000654\n",
      "[3,   600] loss: 0.001144\n",
      "[3,   750] loss: 0.001389\n",
      "[3,   900] loss: 0.000968\n",
      "[3,  1050] loss: 0.000678\n",
      "[3,  1200] loss: 0.000280\n",
      "[3,  1350] loss: 0.000905\n",
      "[3,  1500] loss: 0.000804\n",
      "[3,  1650] loss: 0.000858\n",
      "[3,  1800] loss: 0.001052\n",
      "[3,  1950] loss: 0.000595\n",
      "[3,  2100] loss: 0.000622\n",
      "[3,  2250] loss: 0.000453\n",
      "[3,  2400] loss: 0.000122\n",
      "[3,  2550] loss: 0.000447\n",
      "[3,  2700] loss: 0.000433\n",
      "[3,  2850] loss: 0.000298\n",
      "[3,  3000] loss: 0.000672\n",
      "[3,  3150] loss: 0.000388\n",
      "[3,  3300] loss: 0.000622\n",
      "[3,  3450] loss: 0.000643\n",
      "[3,  3600] loss: 0.000753\n",
      "[3,  3750] loss: 0.000583\n",
      "[3,  3900] loss: 0.000667\n",
      "[3,  4050] loss: 0.001258\n",
      "[3,  4200] loss: 0.000516\n",
      "[3,  4350] loss: 0.000310\n",
      "[3,  4500] loss: 0.000207\n",
      "[3,  4650] loss: 0.000471\n",
      "[3,  4800] loss: 0.000485\n",
      "[3,  4950] loss: 0.000281\n"
     ]
    },
    {
     "name": "stderr",
     "output_type": "stream",
     "text": [
      " 30%|███       | 3/10 [02:58<06:56, 59.50s/it]"
     ]
    },
    {
     "name": "stdout",
     "output_type": "stream",
     "text": [
      "[4,   150] loss: 0.003016\n",
      "[4,   300] loss: 0.000862\n",
      "[4,   450] loss: 0.000637\n",
      "[4,   600] loss: 0.001109\n",
      "[4,   750] loss: 0.001371\n",
      "[4,   900] loss: 0.000954\n",
      "[4,  1050] loss: 0.000660\n",
      "[4,  1200] loss: 0.000264\n",
      "[4,  1350] loss: 0.000891\n",
      "[4,  1500] loss: 0.000791\n",
      "[4,  1650] loss: 0.000842\n",
      "[4,  1800] loss: 0.001032\n",
      "[4,  1950] loss: 0.000576\n",
      "[4,  2100] loss: 0.000609\n",
      "[4,  2250] loss: 0.000441\n",
      "[4,  2400] loss: 0.000119\n",
      "[4,  2550] loss: 0.000437\n",
      "[4,  2700] loss: 0.000429\n",
      "[4,  2850] loss: 0.000294\n",
      "[4,  3000] loss: 0.000655\n",
      "[4,  3150] loss: 0.000377\n",
      "[4,  3300] loss: 0.000609\n",
      "[4,  3450] loss: 0.000634\n",
      "[4,  3600] loss: 0.000733\n",
      "[4,  3750] loss: 0.000572\n",
      "[4,  3900] loss: 0.000661\n",
      "[4,  4050] loss: 0.001240\n",
      "[4,  4200] loss: 0.000499\n",
      "[4,  4350] loss: 0.000302\n",
      "[4,  4500] loss: 0.000204\n",
      "[4,  4650] loss: 0.000463\n",
      "[4,  4800] loss: 0.000475\n",
      "[4,  4950] loss: 0.000276\n"
     ]
    },
    {
     "name": "stderr",
     "output_type": "stream",
     "text": [
      " 40%|████      | 4/10 [03:57<05:56, 59.46s/it]"
     ]
    },
    {
     "name": "stdout",
     "output_type": "stream",
     "text": [
      "[5,   150] loss: 0.002932\n",
      "[5,   300] loss: 0.000848\n",
      "[5,   450] loss: 0.000620\n",
      "[5,   600] loss: 0.001082\n",
      "[5,   750] loss: 0.001352\n",
      "[5,   900] loss: 0.000941\n",
      "[5,  1050] loss: 0.000647\n",
      "[5,  1200] loss: 0.000255\n",
      "[5,  1350] loss: 0.000879\n",
      "[5,  1500] loss: 0.000780\n",
      "[5,  1650] loss: 0.000831\n",
      "[5,  1800] loss: 0.001013\n",
      "[5,  1950] loss: 0.000560\n",
      "[5,  2100] loss: 0.000596\n",
      "[5,  2250] loss: 0.000429\n",
      "[5,  2400] loss: 0.000117\n",
      "[5,  2550] loss: 0.000429\n",
      "[5,  2700] loss: 0.000426\n",
      "[5,  2850] loss: 0.000292\n",
      "[5,  3000] loss: 0.000640\n",
      "[5,  3150] loss: 0.000369\n",
      "[5,  3300] loss: 0.000597\n",
      "[5,  3450] loss: 0.000626\n",
      "[5,  3600] loss: 0.000716\n",
      "[5,  3750] loss: 0.000562\n",
      "[5,  3900] loss: 0.000655\n",
      "[5,  4050] loss: 0.001223\n",
      "[5,  4200] loss: 0.000485\n",
      "[5,  4350] loss: 0.000295\n",
      "[5,  4500] loss: 0.000202\n",
      "[5,  4650] loss: 0.000455\n",
      "[5,  4800] loss: 0.000466\n",
      "[5,  4950] loss: 0.000273\n"
     ]
    },
    {
     "name": "stderr",
     "output_type": "stream",
     "text": [
      " 50%|█████     | 5/10 [04:57<04:57, 59.42s/it]"
     ]
    },
    {
     "name": "stdout",
     "output_type": "stream",
     "text": [
      "[6,   150] loss: 0.002858\n",
      "[6,   300] loss: 0.000833\n",
      "[6,   450] loss: 0.000605\n",
      "[6,   600] loss: 0.001058\n",
      "[6,   750] loss: 0.001335\n",
      "[6,   900] loss: 0.000930\n",
      "[6,  1050] loss: 0.000636\n",
      "[6,  1200] loss: 0.000249\n",
      "[6,  1350] loss: 0.000869\n",
      "[6,  1500] loss: 0.000769\n",
      "[6,  1650] loss: 0.000821\n",
      "[6,  1800] loss: 0.000996\n",
      "[6,  1950] loss: 0.000547\n",
      "[6,  2100] loss: 0.000585\n",
      "[6,  2250] loss: 0.000419\n",
      "[6,  2400] loss: 0.000116\n",
      "[6,  2550] loss: 0.000422\n",
      "[6,  2700] loss: 0.000422\n",
      "[6,  2850] loss: 0.000290\n",
      "[6,  3000] loss: 0.000628\n",
      "[6,  3150] loss: 0.000362\n",
      "[6,  3300] loss: 0.000587\n",
      "[6,  3450] loss: 0.000618\n",
      "[6,  3600] loss: 0.000702\n",
      "[6,  3750] loss: 0.000554\n",
      "[6,  3900] loss: 0.000650\n",
      "[6,  4050] loss: 0.001209\n",
      "[6,  4200] loss: 0.000473\n",
      "[6,  4350] loss: 0.000290\n",
      "[6,  4500] loss: 0.000201\n",
      "[6,  4650] loss: 0.000449\n",
      "[6,  4800] loss: 0.000458\n",
      "[6,  4950] loss: 0.000270\n"
     ]
    },
    {
     "name": "stderr",
     "output_type": "stream",
     "text": [
      " 60%|██████    | 6/10 [05:56<03:57, 59.48s/it]"
     ]
    },
    {
     "name": "stdout",
     "output_type": "stream",
     "text": [
      "[7,   150] loss: 0.002797\n",
      "[7,   300] loss: 0.000820\n",
      "[7,   450] loss: 0.000593\n",
      "[7,   600] loss: 0.001039\n",
      "[7,   750] loss: 0.001318\n",
      "[7,   900] loss: 0.000919\n",
      "[7,  1050] loss: 0.000627\n",
      "[7,  1200] loss: 0.000244\n",
      "[7,  1350] loss: 0.000860\n",
      "[7,  1500] loss: 0.000758\n",
      "[7,  1650] loss: 0.000813\n",
      "[7,  1800] loss: 0.000982\n",
      "[7,  1950] loss: 0.000537\n",
      "[7,  2100] loss: 0.000576\n",
      "[7,  2250] loss: 0.000410\n",
      "[7,  2400] loss: 0.000115\n",
      "[7,  2550] loss: 0.000416\n",
      "[7,  2700] loss: 0.000418\n",
      "[7,  2850] loss: 0.000288\n",
      "[7,  3000] loss: 0.000617\n",
      "[7,  3150] loss: 0.000357\n",
      "[7,  3300] loss: 0.000578\n",
      "[7,  3450] loss: 0.000611\n",
      "[7,  3600] loss: 0.000690\n",
      "[7,  3750] loss: 0.000547\n",
      "[7,  3900] loss: 0.000645\n",
      "[7,  4050] loss: 0.001195\n",
      "[7,  4200] loss: 0.000463\n",
      "[7,  4350] loss: 0.000287\n",
      "[7,  4500] loss: 0.000199\n",
      "[7,  4650] loss: 0.000444\n",
      "[7,  4800] loss: 0.000452\n",
      "[7,  4950] loss: 0.000267\n"
     ]
    },
    {
     "name": "stderr",
     "output_type": "stream",
     "text": [
      " 70%|███████   | 7/10 [06:56<02:58, 59.46s/it]"
     ]
    },
    {
     "name": "stdout",
     "output_type": "stream",
     "text": [
      "[8,   150] loss: 0.002746\n",
      "[8,   300] loss: 0.000808\n",
      "[8,   450] loss: 0.000583\n",
      "[8,   600] loss: 0.001023\n",
      "[8,   750] loss: 0.001304\n",
      "[8,   900] loss: 0.000910\n",
      "[8,  1050] loss: 0.000620\n",
      "[8,  1200] loss: 0.000240\n",
      "[8,  1350] loss: 0.000852\n",
      "[8,  1500] loss: 0.000749\n",
      "[8,  1650] loss: 0.000806\n",
      "[8,  1800] loss: 0.000970\n",
      "[8,  1950] loss: 0.000528\n",
      "[8,  2100] loss: 0.000568\n",
      "[8,  2250] loss: 0.000403\n",
      "[8,  2400] loss: 0.000114\n",
      "[8,  2550] loss: 0.000411\n",
      "[8,  2700] loss: 0.000415\n",
      "[8,  2850] loss: 0.000286\n",
      "[8,  3000] loss: 0.000608\n",
      "[8,  3150] loss: 0.000352\n",
      "[8,  3300] loss: 0.000571\n",
      "[8,  3450] loss: 0.000605\n",
      "[8,  3600] loss: 0.000679\n",
      "[8,  3750] loss: 0.000541\n",
      "[8,  3900] loss: 0.000640\n",
      "[8,  4050] loss: 0.001183\n",
      "[8,  4200] loss: 0.000454\n",
      "[8,  4350] loss: 0.000283\n",
      "[8,  4500] loss: 0.000198\n",
      "[8,  4650] loss: 0.000439\n",
      "[8,  4800] loss: 0.000446\n",
      "[8,  4950] loss: 0.000265\n"
     ]
    },
    {
     "name": "stderr",
     "output_type": "stream",
     "text": [
      " 80%|████████  | 8/10 [07:55<01:59, 59.54s/it]"
     ]
    },
    {
     "name": "stdout",
     "output_type": "stream",
     "text": [
      "[9,   150] loss: 0.002703\n",
      "[9,   300] loss: 0.000798\n",
      "[9,   450] loss: 0.000575\n",
      "[9,   600] loss: 0.001010\n",
      "[9,   750] loss: 0.001290\n",
      "[9,   900] loss: 0.000901\n",
      "[9,  1050] loss: 0.000613\n",
      "[9,  1200] loss: 0.000237\n",
      "[9,  1350] loss: 0.000845\n",
      "[9,  1500] loss: 0.000741\n",
      "[9,  1650] loss: 0.000800\n",
      "[9,  1800] loss: 0.000960\n",
      "[9,  1950] loss: 0.000521\n",
      "[9,  2100] loss: 0.000561\n",
      "[9,  2250] loss: 0.000397\n",
      "[9,  2400] loss: 0.000113\n",
      "[9,  2550] loss: 0.000407\n",
      "[9,  2700] loss: 0.000413\n",
      "[9,  2850] loss: 0.000284\n",
      "[9,  3000] loss: 0.000600\n",
      "[9,  3150] loss: 0.000348\n",
      "[9,  3300] loss: 0.000564\n",
      "[9,  3450] loss: 0.000599\n",
      "[9,  3600] loss: 0.000669\n",
      "[9,  3750] loss: 0.000535\n",
      "[9,  3900] loss: 0.000634\n",
      "[9,  4050] loss: 0.001172\n",
      "[9,  4200] loss: 0.000447\n",
      "[9,  4350] loss: 0.000280\n",
      "[9,  4500] loss: 0.000197\n",
      "[9,  4650] loss: 0.000435\n",
      "[9,  4800] loss: 0.000441\n",
      "[9,  4950] loss: 0.000263\n"
     ]
    },
    {
     "name": "stderr",
     "output_type": "stream",
     "text": [
      " 90%|█████████ | 9/10 [08:55<00:59, 59.58s/it]"
     ]
    },
    {
     "name": "stdout",
     "output_type": "stream",
     "text": [
      "[10,   150] loss: 0.002665\n",
      "[10,   300] loss: 0.000788\n",
      "[10,   450] loss: 0.000567\n",
      "[10,   600] loss: 0.000998\n",
      "[10,   750] loss: 0.001278\n",
      "[10,   900] loss: 0.000893\n",
      "[10,  1050] loss: 0.000607\n",
      "[10,  1200] loss: 0.000234\n",
      "[10,  1350] loss: 0.000837\n",
      "[10,  1500] loss: 0.000733\n",
      "[10,  1650] loss: 0.000794\n",
      "[10,  1800] loss: 0.000950\n",
      "[10,  1950] loss: 0.000514\n",
      "[10,  2100] loss: 0.000555\n",
      "[10,  2250] loss: 0.000391\n",
      "[10,  2400] loss: 0.000112\n",
      "[10,  2550] loss: 0.000403\n",
      "[10,  2700] loss: 0.000410\n",
      "[10,  2850] loss: 0.000282\n",
      "[10,  3000] loss: 0.000593\n",
      "[10,  3150] loss: 0.000345\n",
      "[10,  3300] loss: 0.000558\n",
      "[10,  3450] loss: 0.000593\n",
      "[10,  3600] loss: 0.000660\n",
      "[10,  3750] loss: 0.000530\n",
      "[10,  3900] loss: 0.000629\n",
      "[10,  4050] loss: 0.001162\n",
      "[10,  4200] loss: 0.000440\n",
      "[10,  4350] loss: 0.000278\n",
      "[10,  4500] loss: 0.000196\n",
      "[10,  4650] loss: 0.000431\n",
      "[10,  4800] loss: 0.000436\n",
      "[10,  4950] loss: 0.000261\n"
     ]
    },
    {
     "name": "stderr",
     "output_type": "stream",
     "text": [
      "100%|██████████| 10/10 [09:54<00:00, 59.49s/it]"
     ]
    },
    {
     "name": "stdout",
     "output_type": "stream",
     "text": [
      "Finished Training\n"
     ]
    },
    {
     "name": "stderr",
     "output_type": "stream",
     "text": [
      "\n"
     ]
    }
   ],
   "source": [
    "model = SuperBot(\n",
    "    input_size=1,\n",
    "    hidden_size=10,\n",
    "    dropout_rate=0\n",
    ")\n",
    "optimizer = torch.optim.SGD(model.parameters(), lr=0.005, momentum=0.9)\n",
    "criterion = nn.MSELoss()\n",
    "\n",
    "train(\n",
    "    model,\n",
    "    optimizer,\n",
    "    criterion,\n",
    "    epochs=10,\n",
    "    train_data=train_dataloader\n",
    ")"
   ]
  },
  {
   "cell_type": "code",
   "execution_count": 9,
   "metadata": {},
   "outputs": [],
   "source": [
    "torch.save(model.state_dict(), \"saved_models/lstm_v1.pth\")"
   ]
  }
 ],
 "metadata": {
  "interpreter": {
   "hash": "aee8b7b246df8f9039afb4144a1f6fd8d2ca17a180786b69acc140d282b71a49"
  },
  "kernelspec": {
   "display_name": "Python 3.9.9 64-bit",
   "language": "python",
   "name": "python3"
  },
  "language_info": {
   "codemirror_mode": {
    "name": "ipython",
    "version": 3
   },
   "file_extension": ".py",
   "mimetype": "text/x-python",
   "name": "python",
   "nbconvert_exporter": "python",
   "pygments_lexer": "ipython3",
   "version": "3.9.1"
  },
  "orig_nbformat": 4
 },
 "nbformat": 4,
 "nbformat_minor": 2
}
