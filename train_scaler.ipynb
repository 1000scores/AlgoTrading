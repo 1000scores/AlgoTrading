{
 "cells": [
  {
   "cell_type": "code",
   "execution_count": 8,
   "metadata": {},
   "outputs": [
    {
     "name": "stdout",
     "output_type": "stream",
     "text": [
      "The autoreload extension is already loaded. To reload it, use:\n",
      "  %reload_ext autoreload\n"
     ]
    }
   ],
   "source": [
    "%load_ext autoreload\n",
    "%autoreload 2\n",
    "from get_data import *\n",
    "import pandas as pd\n",
    "from torch.utils.data import Dataset\n",
    "import torch\n",
    "from sklearn.preprocessing import MinMaxScaler\n",
    "from pickle import load, dump"
   ]
  },
  {
   "cell_type": "code",
   "execution_count": 9,
   "metadata": {},
   "outputs": [
    {
     "name": "stderr",
     "output_type": "stream",
     "text": [
      "75598it [01:50, 687.05it/s]\n"
     ]
    },
    {
     "name": "stdout",
     "output_type": "stream",
     "text": [
      "75598\n"
     ]
    }
   ],
   "source": [
    "# FOR SCALER\n",
    "\n",
    "download_data(\n",
    "    start_date=\"2020-01-01\",\n",
    "    end_date=\"2022-02-28\",\n",
    "    currency_symbol=\"BTCUSDT\",\n",
    "    path=\"data/scaler_data_15_2020-01-01_2022-02-28\",\n",
    "    ohlcv_size='15m'\n",
    ")"
   ]
  },
  {
   "cell_type": "code",
   "execution_count": 11,
   "metadata": {},
   "outputs": [
    {
     "name": "stdout",
     "output_type": "stream",
     "text": [
      "[[ 7184.57]\n",
      " [ 7186.7 ]\n",
      " [ 7187.62]\n",
      " ...\n",
      " [37784.99]\n",
      " [38299.39]\n",
      " [38040.27]]\n",
      "[[0.04545791]\n",
      " [0.0454908 ]\n",
      " [0.04550501]\n",
      " ...\n",
      " [0.51798376]\n",
      " [0.52592703]\n",
      " [0.52192575]]\n"
     ]
    }
   ],
   "source": [
    "PATH_SCALER_DATA = \"data/scaler_data_15_2020-01-01_2022-02-28\"\n",
    "\n",
    "scaler = MinMaxScaler()\n",
    "scaler_fit_data = get_high_from_data(PATH_SCALER_DATA).reshape(-1, 1)\n",
    "print(scaler_fit_data)\n",
    "scaler.fit(scaler_fit_data)\n",
    "print(scaler.transform(scaler_fit_data))"
   ]
  },
  {
   "cell_type": "code",
   "execution_count": 12,
   "metadata": {},
   "outputs": [],
   "source": [
    "dump(scaler, open('scalers/scaler_15m.pkl', 'wb'))"
   ]
  },
  {
   "cell_type": "code",
   "execution_count": 14,
   "metadata": {},
   "outputs": [
    {
     "name": "stdout",
     "output_type": "stream",
     "text": [
      "[[0.04545791]\n",
      " [0.0454908 ]\n",
      " [0.04550501]\n",
      " ...\n",
      " [0.51798376]\n",
      " [0.52592703]\n",
      " [0.52192575]]\n"
     ]
    }
   ],
   "source": [
    "scaler = load(open('scalers/scaler_15m.pkl', 'rb'))\n",
    "print(scaler.transform(scaler_fit_data))"
   ]
  },
  {
   "cell_type": "code",
   "execution_count": null,
   "metadata": {},
   "outputs": [],
   "source": []
  }
 ],
 "metadata": {
  "interpreter": {
   "hash": "dfa36827463457e711ee0f6313e71839a6e74b4e10eee05d0ef1d4d260e6136b"
  },
  "kernelspec": {
   "display_name": "Python 3.9.1 64-bit",
   "language": "python",
   "name": "python3"
  },
  "language_info": {
   "codemirror_mode": {
    "name": "ipython",
    "version": 3
   },
   "file_extension": ".py",
   "mimetype": "text/x-python",
   "name": "python",
   "nbconvert_exporter": "python",
   "pygments_lexer": "ipython3",
   "version": "3.9.1"
  },
  "orig_nbformat": 4
 },
 "nbformat": 4,
 "nbformat_minor": 2
}
