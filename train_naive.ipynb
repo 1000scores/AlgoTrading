{
 "cells": [
  {
   "cell_type": "code",
   "execution_count": 1,
   "metadata": {},
   "outputs": [],
   "source": [
    "%load_ext autoreload\n",
    "%autoreload 2\n",
    "from get_data import *\n"
   ]
  },
  {
   "cell_type": "code",
   "execution_count": 31,
   "metadata": {},
   "outputs": [
    {
     "name": "stderr",
     "output_type": "stream",
     "text": [
      "17273it [00:24, 717.58it/s]\n"
     ]
    },
    {
     "name": "stdout",
     "output_type": "stream",
     "text": [
      "17273\n"
     ]
    },
    {
     "name": "stderr",
     "output_type": "stream",
     "text": [
      "2785it [00:04, 618.07it/s]"
     ]
    },
    {
     "name": "stdout",
     "output_type": "stream",
     "text": [
      "2785\n"
     ]
    },
    {
     "name": "stderr",
     "output_type": "stream",
     "text": [
      "\n"
     ]
    }
   ],
   "source": [
    "download_data(\n",
    "    \"2021-09-01\",\n",
    "    \"2022-02-28\",\n",
    "    \"BTCUSDT\",\n",
    "    \"data/train_15_2021-09-01_2022-02-28\",\n",
    "    ohlcv_size=\"15m\"\n",
    ")\n",
    "download_data(\n",
    "    \"2022-03-01\",\n",
    "    \"2022-03-30\",\n",
    "    \"BTCUSDT\",\n",
    "    \"data/test_15_2022-03-01_2022-03-30\",\n",
    "    ohlcv_size=\"15m\"\n",
    ")"
   ]
  },
  {
   "cell_type": "code",
   "execution_count": 3,
   "metadata": {},
   "outputs": [],
   "source": [
    "from skforecast.ForecasterAutoreg import ForecasterAutoreg\n",
    "from catboost import CatBoostRegressor\n",
    "from skforecast.model_selection import grid_search_forecaster\n",
    "from skforecast.model_selection import backtesting_forecaster\n",
    "import pandas as pd\n",
    "\n",
    "PATH_TRAIN = \"data/train_15_2021-09-01_2022-02-28\"\n",
    "\n",
    "y = pd.Series(get_high_from_data(PATH_TRAIN))\n",
    "y_train = y[:-3]\n",
    "y_test = y[len(y_train):]\n",
    "\n",
    "forecaster = ForecasterAutoreg(\n",
    "    regressor = CatBoostRegressor(random_state=123, silent=True),\n",
    "    lags = 12\n",
    ")\n",
    "\n",
    "forecaster.fit(y=y_train)"
   ]
  },
  {
   "cell_type": "code",
   "execution_count": null,
   "metadata": {},
   "outputs": [],
   "source": []
  },
  {
   "cell_type": "code",
   "execution_count": 4,
   "metadata": {},
   "outputs": [
    {
     "name": "stdout",
     "output_type": "stream",
     "text": [
      "217.6984431556654\n",
      "[37784.99, 38299.39, 38040.27]\n",
      "[38224.79914825784, 38091.15910516387, 38035.21471362698]\n"
     ]
    }
   ],
   "source": [
    "y_pred = forecaster.predict(steps=3)\n",
    "from sklearn.metrics import mean_absolute_error\n",
    "print(mean_absolute_error(list(y_test), list(y_pred)))\n",
    "print(list(y_test))\n",
    "print(list(y_pred))\n"
   ]
  },
  {
   "cell_type": "code",
   "execution_count": 1,
   "metadata": {},
   "outputs": [
    {
     "name": "stdout",
     "output_type": "stream",
     "text": [
      "Forecaster will be fit 595 times. This can take substantial amounts of time. If not feasible, try with `refit = False`. \n",
      "\n",
      "Catboost res: 138.59208257376315\n"
     ]
    }
   ],
   "source": [
    "%load_ext autoreload\n",
    "%autoreload 2\n",
    "from get_data import *\n",
    "import pandas as pd\n",
    "from skforecast.ForecasterAutoreg import ForecasterAutoreg\n",
    "from catboost import CatBoostRegressor\n",
    "from skforecast.model_selection import grid_search_forecaster\n",
    "from skforecast.model_selection import backtesting_forecaster\n",
    "from xgboost import XGBRegressor\n",
    "from lightgbm import LGBMRegressor\n",
    "\n",
    "PATH_TEST = \"data/test_15_2022-03-01_2022-03-30\"\n",
    "y_test = pd.Series(get_high_from_data(PATH_TEST))\n",
    "\n",
    "forecaster_catboost = ForecasterAutoreg(\n",
    "    regressor=CatBoostRegressor(random_state=123, silent=True),\n",
    "    lags = 12\n",
    ")\n",
    "\n",
    "metric_catboost, predictions = backtesting_forecaster(\n",
    "    forecaster=forecaster_catboost,\n",
    "    y=y_test,\n",
    "    initial_train_size=1000,\n",
    "    fixed_train_size=True,\n",
    "    steps=3,\n",
    "    refit=True,\n",
    "    metric='mean_absolute_error',\n",
    "    verbose=False # Change to True to see detailed information\n",
    ")\n",
    "\n",
    "print(f\"Catboost res: {metric_catboost}\")\n"
   ]
  },
  {
   "cell_type": "code",
   "execution_count": 4,
   "metadata": {},
   "outputs": [
    {
     "name": "stdout",
     "output_type": "stream",
     "text": [
      "Forecaster will be fit 595 times. This can take substantial amounts of time. If not feasible, try with `refit = False`. \n",
      "\n",
      "XGBoost res: 145.0879571953781\n"
     ]
    }
   ],
   "source": [
    "forecaster_xgboost = ForecasterAutoreg(\n",
    "    regressor=XGBRegressor(random_state=123),\n",
    "    lags = 12\n",
    ")\n",
    "\n",
    "metric_xgboost, predictions = backtesting_forecaster(\n",
    "    forecaster=forecaster_xgboost,\n",
    "    y=y_test,\n",
    "    initial_train_size=1000,\n",
    "    fixed_train_size=True,\n",
    "    steps=3,\n",
    "    refit=True,\n",
    "    metric='mean_absolute_error',\n",
    "    verbose=False # Change to True to see detailed information\n",
    ")\n",
    "\n",
    "print(f\"XGBoost res: {metric_xgboost}\")"
   ]
  },
  {
   "cell_type": "code",
   "execution_count": 5,
   "metadata": {},
   "outputs": [
    {
     "name": "stdout",
     "output_type": "stream",
     "text": [
      "Forecaster will be fit 595 times. This can take substantial amounts of time. If not feasible, try with `refit = False`. \n",
      "\n",
      "LightGBM res: 138.59208257376315\n"
     ]
    }
   ],
   "source": [
    "forecaster_lightgbm = ForecasterAutoreg(\n",
    "    regressor=LGBMRegressor(random_state=123),\n",
    "    lags = 12\n",
    ")\n",
    "\n",
    "metric_lightgbm, predictions = backtesting_forecaster(\n",
    "    forecaster=forecaster_lightgbm,\n",
    "    y=y_test,\n",
    "    initial_train_size=1000,\n",
    "    fixed_train_size=True,\n",
    "    steps=3,\n",
    "    refit=True,\n",
    "    metric='mean_absolute_error',\n",
    "    verbose=False # Change to True to see detailed information\n",
    ")\n",
    "\n",
    "print(f\"LightGBM res: {metric_catboost}\")"
   ]
  },
  {
   "cell_type": "code",
   "execution_count": 6,
   "metadata": {},
   "outputs": [
    {
     "name": "stdout",
     "output_type": "stream",
     "text": [
      "159.0022985628589\n"
     ]
    }
   ],
   "source": [
    "print(metric_lightgbm)"
   ]
  },
  {
   "cell_type": "code",
   "execution_count": 12,
   "metadata": {},
   "outputs": [
    {
     "name": "stdout",
     "output_type": "stream",
     "text": [
      "16270\n"
     ]
    }
   ],
   "source": [
    "print(len(predictions))"
   ]
  },
  {
   "cell_type": "code",
   "execution_count": 5,
   "metadata": {},
   "outputs": [
    {
     "name": "stdout",
     "output_type": "stream",
     "text": [
      "138.59208257376315\n"
     ]
    }
   ],
   "source": [
    "print(metric)"
   ]
  },
  {
   "cell_type": "code",
   "execution_count": 17,
   "metadata": {},
   "outputs": [
    {
     "name": "stdout",
     "output_type": "stream",
     "text": [
      "The autoreload extension is already loaded. To reload it, use:\n",
      "  %reload_ext autoreload\n"
     ]
    }
   ],
   "source": [
    "%load_ext autoreload\n",
    "%autoreload 2\n",
    "from get_data import *\n",
    "from sklearn.metrics import mean_absolute_error\n",
    "from skforecast.ForecasterAutoreg import ForecasterAutoreg\n",
    "from catboost import CatBoostRegressor\n",
    "from skforecast.model_selection import grid_search_forecaster\n",
    "from skforecast.model_selection import backtesting_forecaster\n",
    "import pandas as pd\n",
    "\n",
    "def test_regressor(data, regressor, window, lags, steps_forward):\n",
    "    error = 0.0\n",
    "    iters = 0\n",
    "    for i in tqdm(range(0, len(data) - window)):\n",
    "        left = i\n",
    "        right = left + window\n",
    "        tmp = data[left : right]\n",
    "        y_train = tmp[:-steps_forward]\n",
    "        y_test_true = tmp[len(y_train):]\n",
    "        forecaster = ForecasterAutoreg(\n",
    "            regressor=regressor,\n",
    "            lags=lags\n",
    "        )\n",
    "        forecaster.fit(y=y_train)\n",
    "        y_pred = forecaster.predict(steps=steps_forward)\n",
    "        error += mean_absolute_error(list(y_test_true), list(y_pred))\n",
    "        iters += 1\n",
    "    \n",
    "    return error / iters\n",
    "        \n",
    "        "
   ]
  },
  {
   "cell_type": "code",
   "execution_count": 3,
   "metadata": {},
   "outputs": [
    {
     "name": "stderr",
     "output_type": "stream",
     "text": [
      "100%|██████████| 1785/1785 [32:37<00:00,  1.10s/it]\n"
     ]
    },
    {
     "data": {
      "text/plain": [
       "136.9468653416249"
      ]
     },
     "execution_count": 3,
     "metadata": {},
     "output_type": "execute_result"
    }
   ],
   "source": [
    "PATH_TRAIN = \"data/test_15_2022-03-01_2022-03-30\"\n",
    "y = pd.Series(get_high_from_data(PATH_TRAIN))\n",
    "\n",
    "test_regressor(\n",
    "    data=y,\n",
    "    regressor=CatBoostRegressor(random_state=123, silent=True),\n",
    "    window=1000,\n",
    "    lags=12,\n",
    "    steps_forward=3\n",
    ")"
   ]
  },
  {
   "cell_type": "code",
   "execution_count": 6,
   "metadata": {},
   "outputs": [
    {
     "name": "stderr",
     "output_type": "stream",
     "text": [
      "100%|██████████| 461/461 [08:03<00:00,  1.05s/it]\n"
     ]
    },
    {
     "data": {
      "text/plain": [
       "129.30586903628384"
      ]
     },
     "execution_count": 6,
     "metadata": {},
     "output_type": "execute_result"
    }
   ],
   "source": [
    "PATH_TRAIN = \"data/val_15_2022-03-20_2022-03-30\"\n",
    "y = pd.Series(get_high_from_data(PATH_TRAIN))\n",
    "\n",
    "test_regressor(\n",
    "    data=y,\n",
    "    regressor=CatBoostRegressor(random_state=123, silent=True),\n",
    "    window=500,\n",
    "    lags=12,\n",
    "    steps_forward=3\n",
    ")"
   ]
  },
  {
   "cell_type": "code",
   "execution_count": 14,
   "metadata": {},
   "outputs": [
    {
     "name": "stderr",
     "output_type": "stream",
     "text": [
      "100%|██████████| 461/461 [00:54<00:00,  8.47it/s]\n"
     ]
    },
    {
     "data": {
      "text/plain": [
       "133.67331649945763"
      ]
     },
     "execution_count": 14,
     "metadata": {},
     "output_type": "execute_result"
    }
   ],
   "source": [
    "from xgboost import XGBRegressor\n",
    "from lightgbm import LGBMRegressor\n",
    "\n",
    "test_regressor(\n",
    "    data=y,\n",
    "    regressor=XGBRegressor(random_state=123),\n",
    "    window=500,\n",
    "    lags=12,\n",
    "    steps_forward=3\n",
    ")"
   ]
  },
  {
   "cell_type": "code",
   "execution_count": 15,
   "metadata": {},
   "outputs": [
    {
     "name": "stderr",
     "output_type": "stream",
     "text": [
      "100%|██████████| 461/461 [00:21<00:00, 21.04it/s]\n"
     ]
    },
    {
     "data": {
      "text/plain": [
       "173.1785846478238"
      ]
     },
     "execution_count": 15,
     "metadata": {},
     "output_type": "execute_result"
    }
   ],
   "source": [
    "test_regressor(\n",
    "    data=y,\n",
    "    regressor=LGBMRegressor(random_state=123),\n",
    "    window=500,\n",
    "    lags=12,\n",
    "    steps_forward=3\n",
    ")"
   ]
  },
  {
   "cell_type": "markdown",
   "metadata": {},
   "source": [
    "### TESTING FOR LOWER ###\n"
   ]
  },
  {
   "cell_type": "code",
   "execution_count": 21,
   "metadata": {},
   "outputs": [
    {
     "name": "stderr",
     "output_type": "stream",
     "text": [
      "100%|██████████| 461/461 [07:26<00:00,  1.03it/s]\n"
     ]
    },
    {
     "data": {
      "text/plain": [
       "128.84500271688165"
      ]
     },
     "execution_count": 21,
     "metadata": {},
     "output_type": "execute_result"
    }
   ],
   "source": [
    "PATH_TRAIN = \"data/val_15_2022-03-20_2022-03-30\"\n",
    "y = pd.Series(get_low_from_data(PATH_TRAIN))\n",
    "\n",
    "test_regressor(\n",
    "    data=y,\n",
    "    regressor=CatBoostRegressor(random_state=123, silent=True),\n",
    "    window=500,\n",
    "    lags=12,\n",
    "    steps_forward=3\n",
    ")"
   ]
  },
  {
   "cell_type": "code",
   "execution_count": 19,
   "metadata": {},
   "outputs": [
    {
     "name": "stderr",
     "output_type": "stream",
     "text": [
      "100%|██████████| 461/461 [00:57<00:00,  8.06it/s]\n"
     ]
    },
    {
     "data": {
      "text/plain": [
       "141.0583876762473"
      ]
     },
     "execution_count": 19,
     "metadata": {},
     "output_type": "execute_result"
    }
   ],
   "source": [
    "from xgboost import XGBRegressor\n",
    "from lightgbm import LGBMRegressor\n",
    "\n",
    "test_regressor(\n",
    "    data=y,\n",
    "    regressor=XGBRegressor(random_state=123),\n",
    "    window=500,\n",
    "    lags=12,\n",
    "    steps_forward=3\n",
    ")"
   ]
  },
  {
   "cell_type": "code",
   "execution_count": 20,
   "metadata": {},
   "outputs": [
    {
     "name": "stderr",
     "output_type": "stream",
     "text": [
      "100%|██████████| 461/461 [00:16<00:00, 28.20it/s]\n"
     ]
    },
    {
     "data": {
      "text/plain": [
       "170.04839754968978"
      ]
     },
     "execution_count": 20,
     "metadata": {},
     "output_type": "execute_result"
    }
   ],
   "source": [
    "test_regressor(\n",
    "    data=y,\n",
    "    regressor=LGBMRegressor(random_state=123),\n",
    "    window=500,\n",
    "    lags=12,\n",
    "    steps_forward=3\n",
    ")"
   ]
  },
  {
   "cell_type": "code",
   "execution_count": null,
   "metadata": {},
   "outputs": [],
   "source": []
  }
 ],
 "metadata": {
  "interpreter": {
   "hash": "aee8b7b246df8f9039afb4144a1f6fd8d2ca17a180786b69acc140d282b71a49"
  },
  "kernelspec": {
   "display_name": "Python 3.9.9 64-bit",
   "language": "python",
   "name": "python3"
  },
  "language_info": {
   "codemirror_mode": {
    "name": "ipython",
    "version": 3
   },
   "file_extension": ".py",
   "mimetype": "text/x-python",
   "name": "python",
   "nbconvert_exporter": "python",
   "pygments_lexer": "ipython3",
   "version": "3.9.9"
  },
  "orig_nbformat": 4
 },
 "nbformat": 4,
 "nbformat_minor": 2
}
