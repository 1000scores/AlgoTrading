{
 "cells": [
  {
   "cell_type": "code",
   "execution_count": 1,
   "metadata": {},
   "outputs": [],
   "source": [
    "import pandas as pd"
   ]
  },
  {
   "cell_type": "code",
   "execution_count": 2,
   "metadata": {},
   "outputs": [
    {
     "name": "stdout",
     "output_type": "stream",
     "text": [
      "train 1h : target0 -> 4400 | target1 -> 4335\n",
      "train 12h : target0 -> 384 | target1 -> 343\n",
      "train 1d : target0 -> 193 | target1 -> 170\n",
      "test 1h : target0 -> 1166 | target1 -> 1161\n",
      "test 12h : target0 -> 100 | target1 -> 93\n",
      "test 1d : target0 -> 47 | target1 -> 49\n"
     ]
    }
   ],
   "source": [
    "train_1h = pd.read_csv(\"target/train_1h_2021-01-01_2021-12-31\")\n",
    "train_12h = pd.read_csv(\"target/train_12h_2021-01-01_2021-12-31\")\n",
    "train_1d = pd.read_csv(\"target/train_1d_2021-01-01_2021-12-31\")\n",
    "test_1h = pd.read_csv(\"target/test_1h_2022-01-01_2022-04-08\")\n",
    "test_12h = pd.read_csv(\"target/test_12h_2022-01-01_2022-04-08\")\n",
    "test_1d = pd.read_csv(\"target/test_1d_2022-01-01_2022-04-08\")\n",
    "\n",
    "print(f\"train 1h : target0 -> {len(train_1h[train_1h.target == 0])} | target1 -> {len(train_1h[train_1h.target == 1])}\")\n",
    "print(f\"train 12h : target0 -> {len(train_12h[train_12h.target == 0])} | target1 -> {len(train_12h[train_12h.target == 1])}\")\n",
    "print(f\"train 1d : target0 -> {len(train_1d[train_1d.target == 0])} | target1 -> {len(train_1d[train_1d.target == 1])}\")\n",
    "print(f\"test 1h : target0 -> {len(test_1h[test_1h.target == 0])} | target1 -> {len(test_1h[test_1h.target == 1])}\")\n",
    "print(f\"test 12h : target0 -> {len(test_12h[test_12h.target == 0])} | target1 -> {len(test_12h[test_12h.target == 1])}\")\n",
    "print(f\"test 1d : target0 -> {len(test_1d[test_1d.target == 0])} | target1 -> {len(test_1d[test_1d.target == 1])}\")"
   ]
  },
  {
   "cell_type": "code",
   "execution_count": 12,
   "metadata": {},
   "outputs": [],
   "source": [
    "from catboost import CatBoostClassifier\n",
    "from sklearn.metrics import accuracy_score\n",
    "\n",
    "def train_test(train_df, test_df):\n",
    "\n",
    "    model = CatBoostClassifier(random_state=123)\n",
    "    \n",
    "    train_y = train_df[\"target\"]\n",
    "    train_X = train_df.drop([\"target\"], axis=1)\n",
    "    \n",
    "    model.fit(train_X, train_y, silent=True)\n",
    "    \n",
    "    test_y = list(test_df[\"target\"])\n",
    "    test_X = test_df.drop([\"target\"], axis=1)\n",
    "    \n",
    "    y_pred = model.predict(test_X)\n",
    "    print(test_y[:100])\n",
    "    print(y_pred[:100])\n",
    "    print(f\"Accuracy: {accuracy_score(test_y, y_pred)}\")\n",
    "    \n",
    "    return model"
   ]
  },
  {
   "cell_type": "code",
   "execution_count": 13,
   "metadata": {},
   "outputs": [
    {
     "name": "stdout",
     "output_type": "stream",
     "text": [
      "[0, 1, 0, 0, 0, 0, 1, 0, 0, 1, 0, 1, 1, 1, 0, 0, 1, 0, 0, 0, 0, 1, 1, 0, 1, 0, 0, 1, 1, 1, 1, 1, 0, 0, 1, 0, 1, 0, 0, 1, 1, 0, 0, 0, 1, 1, 1, 0, 0, 0, 1, 1, 1, 1, 1, 0, 0, 1, 0, 1, 0, 0, 0, 1, 1, 1, 1, 0, 1, 1, 1, 1, 0, 0, 1, 1, 1, 0, 0, 1, 0, 0, 0, 1, 0, 0, 1, 0, 0, 0, 1, 1, 1, 1, 0, 0, 1, 1, 0, 0]\n",
      "[0 0 0 0 0 0 1 0 0 0 0 0 1 1 0 0 0 0 1 0 1 1 0 0 0 0 0 0 0 0 1 0 0 0 0 0 0\n",
      " 0 0 0 1 0 0 1 1 0 0 0 0 0 1 0 0 0 1 0 0 0 0 1 0 0 1 1 1 1 1 0 0 0 1 0 0 0\n",
      " 0 0 0 0 0 0 0 0 0 0 0 0 1 0 0 1 1 0 1 1 0 0 0 1 0 0]\n",
      "Accuracy: 0.6609368285345939\n"
     ]
    },
    {
     "data": {
      "text/plain": [
       "<catboost.core.CatBoostClassifier at 0x15045501700>"
      ]
     },
     "execution_count": 13,
     "metadata": {},
     "output_type": "execute_result"
    }
   ],
   "source": [
    "train_test(train_1h, test_1h)"
   ]
  },
  {
   "cell_type": "code",
   "execution_count": 7,
   "metadata": {},
   "outputs": [
    {
     "name": "stdout",
     "output_type": "stream",
     "text": [
      "Accuracy: 0.6609368285345939\n"
     ]
    }
   ],
   "source": [
    "train_test(train_1h, test_1h).save_model(f\"prod_models/pred_BTCUSDT_1h\")"
   ]
  },
  {
   "cell_type": "code",
   "execution_count": 8,
   "metadata": {},
   "outputs": [
    {
     "name": "stdout",
     "output_type": "stream",
     "text": [
      "Accuracy: 0.5906735751295337\n"
     ]
    }
   ],
   "source": [
    "train_test(train_12h, test_12h).save_model(f\"prod_models/pred_BTCUSDT_12h\")"
   ]
  },
  {
   "cell_type": "code",
   "execution_count": 9,
   "metadata": {},
   "outputs": [
    {
     "name": "stdout",
     "output_type": "stream",
     "text": [
      "Accuracy: 0.5625\n"
     ]
    }
   ],
   "source": [
    "train_test(train_1d, test_1d).save_model(f\"prod_models/pred_BTCUSDT_1d\")"
   ]
  },
  {
   "cell_type": "code",
   "execution_count": null,
   "metadata": {},
   "outputs": [],
   "source": []
  }
 ],
 "metadata": {
  "interpreter": {
   "hash": "dfa36827463457e711ee0f6313e71839a6e74b4e10eee05d0ef1d4d260e6136b"
  },
  "kernelspec": {
   "display_name": "Python 3.9.12 64-bit",
   "language": "python",
   "name": "python3"
  },
  "language_info": {
   "codemirror_mode": {
    "name": "ipython",
    "version": 3
   },
   "file_extension": ".py",
   "mimetype": "text/x-python",
   "name": "python",
   "nbconvert_exporter": "python",
   "pygments_lexer": "ipython3",
   "version": "3.9.12"
  },
  "orig_nbformat": 4
 },
 "nbformat": 4,
 "nbformat_minor": 2
}
